{
 "cells": [
  {
   "cell_type": "markdown",
   "metadata": {},
   "source": [
    "# A Simple Binder Example\n",
    "\n",
    "The contents of this file were inspired by one of the pages in Nick Trefethen's [_The (Unfinished) PDE Coffee Table Book_](https://people.maths.ox.ac.uk/trefethen/pdectb.html); that which describes the Perona-Malik equation."
   ]
  },
  {
   "cell_type": "code",
   "execution_count": null,
   "metadata": {},
   "outputs": [],
   "source": [
    "import numpy as np\n",
    "import matplotlib.pyplot as plt"
   ]
  },
  {
   "cell_type": "markdown",
   "metadata": {},
   "source": [
    "## Generate some data for our first example"
   ]
  },
  {
   "cell_type": "code",
   "execution_count": null,
   "metadata": {},
   "outputs": [],
   "source": [
    "dx = 0.01\n",
    "x = np.transpose(np.arange(0, 6, dx))\n",
    "\n",
    "y = [1 if v > 2 and v < 4 else 3 if v > 1 and v < 5 else 5 for v in x]\n",
    "y = np.transpose(np.asarray(y))\n",
    "\n",
    "noise = 0.2 * np.cos(2*np.pi*x/0.15) * np.cos(2*np.pi*x/1)\n",
    "\n",
    "# y_noise = y + 0.5*np.random.rand(*y.shape)\n",
    "y_noise = y + noise"
   ]
  },
  {
   "cell_type": "code",
   "execution_count": null,
   "metadata": {},
   "outputs": [],
   "source": [
    "plt.plot(x, y_noise)"
   ]
  },
  {
   "cell_type": "markdown",
   "metadata": {},
   "source": [
    "## Define smoothing functions\n",
    "\n",
    "First, we'll define a function for smoothing data using the heat equation.\n",
    "\n",
    "We'll then try out a modification to the smoothing process. The Perona-Malik equation effectively reduces diffusion to zero where the gradient of the input signal is very high. This has the effect of maintaining major edges in the signal, while retaining the diffusive effects over regions that are mostly affected by noise."
   ]
  },
  {
   "cell_type": "code",
   "execution_count": null,
   "metadata": {},
   "outputs": [],
   "source": [
    "def solve_heat_eqn(x, dx, dt, u, t_end):\n",
    "    \n",
    "    t = np.arange(0, t_end, dt)\n",
    "    \n",
    "    A = 2*np.eye(len(u)) - np.eye(len(u), k=-1) - np.eye(len(u), k=1)\n",
    "    A[0, 0] = 1\n",
    "    A[-1, -1] = 1\n",
    "    A = (-dt/dx*dx) * A\n",
    "    \n",
    "    for it in t:\n",
    "        u = u + np.dot(A, u)\n",
    "                          \n",
    "    return u"
   ]
  },
  {
   "cell_type": "code",
   "execution_count": null,
   "metadata": {},
   "outputs": [],
   "source": [
    "def solve_pm_equation(x, dx, dt, u, t_end):\n",
    "    \n",
    "    t = np.arange(0, t_end, dt)\n",
    "    \n",
    "    A = 2 * np.eye(len(u)) - np.eye(len(u), k=-1) - np.eye(len(u), k=1)\n",
    "    A[0, 0] = 1\n",
    "    A[-1, -1] = 1\n",
    "    A = (-dt/dx*dx) * A\n",
    "    \n",
    "    B = - 0.5 * np.eye(len(u), k=-1) + 0.5 * np.eye(len(u), k=1)\n",
    "    B = (-dt/2*dx) * B\n",
    "        \n",
    "    for it in t:\n",
    "        g = 1 / (1 + u*u)\n",
    "        u = u + g*np.dot(A, u) + np.dot(B, g)*np.dot(B, u)\n",
    "                          \n",
    "    return u"
   ]
  },
  {
   "cell_type": "code",
   "execution_count": null,
   "metadata": {},
   "outputs": [],
   "source": [
    "t_end = 300\n",
    "dt = 0.01\n",
    "y_heat = solve_heat_eqn(x, dx, dt, y_noise, t_end)\n",
    "y_pm = solve_pm_equation(x, dx, dt, y_noise, t_end)"
   ]
  },
  {
   "cell_type": "code",
   "execution_count": null,
   "metadata": {},
   "outputs": [],
   "source": [
    "fig, ax = plt.subplots(1, 2, sharey=True, figsize=(15, 5))\n",
    "ax[0].plot(x, y_noise, x, y_heat)\n",
    "ax[1].plot(x, y_noise, x, y_pm)"
   ]
  },
  {
   "cell_type": "markdown",
   "metadata": {},
   "source": [
    "## To do\n",
    "- 2D implementation\n",
    "- Real images\n",
    "- FEM\n",
    "- Plots"
   ]
  }
 ],
 "metadata": {
  "kernelspec": {
   "display_name": "Python 3",
   "language": "python",
   "name": "python3"
  },
  "language_info": {
   "codemirror_mode": {
    "name": "ipython",
    "version": 3
   },
   "file_extension": ".py",
   "mimetype": "text/x-python",
   "name": "python",
   "nbconvert_exporter": "python",
   "pygments_lexer": "ipython3",
   "version": "3.7.0"
  }
 },
 "nbformat": 4,
 "nbformat_minor": 2
}
